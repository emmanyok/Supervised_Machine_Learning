{
 "cells": [
  {
   "cell_type": "code",
   "execution_count": 1,
   "metadata": {},
   "outputs": [
    {
     "name": "stderr",
     "output_type": "stream",
     "text": [
      "C:\\Users\\Emmanuel\\anaconda3\\lib\\site-packages\\scipy\\__init__.py:146: UserWarning: A NumPy version >=1.16.5 and <1.23.0 is required for this version of SciPy (detected version 1.23.2\n",
      "  warnings.warn(f\"A NumPy version >={np_minversion} and <{np_maxversion}\"\n"
     ]
    }
   ],
   "source": [
    "import numpy as np\n",
    "import pandas as pd\n",
    "from pathlib import Path\n",
    "from sklearn.model_selection import train_test_split"
   ]
  },
  {
   "cell_type": "code",
   "execution_count": 4,
   "metadata": {},
   "outputs": [
    {
     "ename": "NameError",
     "evalue": "name 'path' is not defined",
     "output_type": "error",
     "traceback": [
      "\u001b[1;31m---------------------------------------------------------------------------\u001b[0m",
      "\u001b[1;31mNameError\u001b[0m                                 Traceback (most recent call last)",
      "Input \u001b[1;32mIn [4]\u001b[0m, in \u001b[0;36m<cell line: 3>\u001b[1;34m()\u001b[0m\n\u001b[0;32m      1\u001b[0m \u001b[38;5;66;03m# Import the data\u001b[39;00m\n\u001b[0;32m      2\u001b[0m file_path \u001b[38;5;241m=\u001b[39m Path(\u001b[38;5;124m\"\u001b[39m\u001b[38;5;124mlending_data.csv\u001b[39m\u001b[38;5;124m\"\u001b[39m)\n\u001b[1;32m----> 3\u001b[0m df \u001b[38;5;241m=\u001b[39m pd\u001b[38;5;241m.\u001b[39mread_csv(\u001b[43mpath\u001b[49m)\n\u001b[0;32m      4\u001b[0m df\u001b[38;5;241m.\u001b[39mhead()\n",
      "\u001b[1;31mNameError\u001b[0m: name 'path' is not defined"
     ]
    }
   ],
   "source": [
    "# Import the data\n",
    "file_path = Path(\"lending_data.csv\")\n",
    "df = pd.read_csv(path)\n",
    "df.head()"
   ]
  },
  {
   "cell_type": "code",
   "execution_count": 7,
   "metadata": {},
   "outputs": [
    {
     "data": {
      "text/plain": [
       "0    75036\n",
       "1     2500\n",
       "Name: loan_status, dtype: int64"
      ]
     },
     "execution_count": 7,
     "metadata": {},
     "output_type": "execute_result"
    }
   ],
   "source": [
    "df[\"loan_status\"].value_counts()"
   ]
  },
  {
   "cell_type": "code",
   "execution_count": 8,
   "metadata": {},
   "outputs": [
    {
     "data": {
      "text/plain": [
       "loan_size           float64\n",
       "interest_rate       float64\n",
       "borrower_income       int64\n",
       "debt_to_income      float64\n",
       "num_of_accounts       int64\n",
       "derogatory_marks      int64\n",
       "total_debt            int64\n",
       "loan_status           int64\n",
       "dtype: object"
      ]
     },
     "execution_count": 8,
     "metadata": {},
     "output_type": "execute_result"
    }
   ],
   "source": [
    "df.dtypes"
   ]
  },
  {
   "cell_type": "code",
   "execution_count": 9,
   "metadata": {},
   "outputs": [
    {
     "data": {
      "text/plain": [
       "Index(['loan_size', 'interest_rate', 'borrower_income', 'debt_to_income',\n",
       "       'num_of_accounts', 'derogatory_marks', 'total_debt', 'loan_status'],\n",
       "      dtype='object')"
      ]
     },
     "execution_count": 9,
     "metadata": {},
     "output_type": "execute_result"
    }
   ],
   "source": [
    "df.columns"
   ]
  },
  {
   "cell_type": "code",
   "execution_count": 10,
   "metadata": {},
   "outputs": [
    {
     "data": {
      "text/plain": [
       "loan_size  interest_rate  borrower_income  debt_to_income  num_of_accounts  derogatory_marks  total_debt  loan_status\n",
       "False      False          False            False           False            False             False       False          77536\n",
       "dtype: int64"
      ]
     },
     "execution_count": 10,
     "metadata": {},
     "output_type": "execute_result"
    }
   ],
   "source": [
    "df.isnull().value_counts()"
   ]
  },
  {
   "cell_type": "code",
   "execution_count": 13,
   "metadata": {},
   "outputs": [],
   "source": [
    "# Define the X (features) and y (target) sets\n",
    "y = df[\"loan_status\"].values\n",
    "X = df.drop(\"loan_status\", axis=1)\n",
    "target_names = [\"low risk\", \"high risk\"]"
   ]
  },
  {
   "cell_type": "code",
   "execution_count": 14,
   "metadata": {
    "scrolled": true
   },
   "outputs": [
    {
     "data": {
      "text/html": [
       "<div>\n",
       "<style scoped>\n",
       "    .dataframe tbody tr th:only-of-type {\n",
       "        vertical-align: middle;\n",
       "    }\n",
       "\n",
       "    .dataframe tbody tr th {\n",
       "        vertical-align: top;\n",
       "    }\n",
       "\n",
       "    .dataframe thead th {\n",
       "        text-align: right;\n",
       "    }\n",
       "</style>\n",
       "<table border=\"1\" class=\"dataframe\">\n",
       "  <thead>\n",
       "    <tr style=\"text-align: right;\">\n",
       "      <th></th>\n",
       "      <th>loan_size</th>\n",
       "      <th>interest_rate</th>\n",
       "      <th>borrower_income</th>\n",
       "      <th>debt_to_income</th>\n",
       "      <th>num_of_accounts</th>\n",
       "      <th>derogatory_marks</th>\n",
       "      <th>total_debt</th>\n",
       "    </tr>\n",
       "  </thead>\n",
       "  <tbody>\n",
       "    <tr>\n",
       "      <th>63243</th>\n",
       "      <td>8900.0</td>\n",
       "      <td>6.893</td>\n",
       "      <td>45500</td>\n",
       "      <td>0.340659</td>\n",
       "      <td>3</td>\n",
       "      <td>0</td>\n",
       "      <td>15500</td>\n",
       "    </tr>\n",
       "    <tr>\n",
       "      <th>36991</th>\n",
       "      <td>9000.0</td>\n",
       "      <td>6.932</td>\n",
       "      <td>45800</td>\n",
       "      <td>0.344978</td>\n",
       "      <td>3</td>\n",
       "      <td>0</td>\n",
       "      <td>15800</td>\n",
       "    </tr>\n",
       "    <tr>\n",
       "      <th>39985</th>\n",
       "      <td>8900.0</td>\n",
       "      <td>6.896</td>\n",
       "      <td>45500</td>\n",
       "      <td>0.340659</td>\n",
       "      <td>3</td>\n",
       "      <td>0</td>\n",
       "      <td>15500</td>\n",
       "    </tr>\n",
       "    <tr>\n",
       "      <th>63047</th>\n",
       "      <td>9000.0</td>\n",
       "      <td>6.961</td>\n",
       "      <td>46100</td>\n",
       "      <td>0.349241</td>\n",
       "      <td>3</td>\n",
       "      <td>0</td>\n",
       "      <td>16100</td>\n",
       "    </tr>\n",
       "    <tr>\n",
       "      <th>49913</th>\n",
       "      <td>8400.0</td>\n",
       "      <td>6.712</td>\n",
       "      <td>43800</td>\n",
       "      <td>0.315068</td>\n",
       "      <td>3</td>\n",
       "      <td>0</td>\n",
       "      <td>13800</td>\n",
       "    </tr>\n",
       "  </tbody>\n",
       "</table>\n",
       "</div>"
      ],
      "text/plain": [
       "       loan_size  interest_rate  borrower_income  debt_to_income  \\\n",
       "63243     8900.0          6.893            45500        0.340659   \n",
       "36991     9000.0          6.932            45800        0.344978   \n",
       "39985     8900.0          6.896            45500        0.340659   \n",
       "63047     9000.0          6.961            46100        0.349241   \n",
       "49913     8400.0          6.712            43800        0.315068   \n",
       "\n",
       "       num_of_accounts  derogatory_marks  total_debt  \n",
       "63243                3                 0       15500  \n",
       "36991                3                 0       15800  \n",
       "39985                3                 0       15500  \n",
       "63047                3                 0       16100  \n",
       "49913                3                 0       13800  "
      ]
     },
     "execution_count": 14,
     "metadata": {},
     "output_type": "execute_result"
    }
   ],
   "source": [
    "# Split the data into X_train, X_test, y_train, y_test\n",
    "X_train, X_test, y_train, y_test = train_test_split(X, y, random_state=42)\n",
    "\n",
    "X_train.head()"
   ]
  },
  {
   "cell_type": "code",
   "execution_count": 15,
   "metadata": {},
   "outputs": [
    {
     "data": {
      "text/html": [
       "<div>\n",
       "<style scoped>\n",
       "    .dataframe tbody tr th:only-of-type {\n",
       "        vertical-align: middle;\n",
       "    }\n",
       "\n",
       "    .dataframe tbody tr th {\n",
       "        vertical-align: top;\n",
       "    }\n",
       "\n",
       "    .dataframe thead th {\n",
       "        text-align: right;\n",
       "    }\n",
       "</style>\n",
       "<table border=\"1\" class=\"dataframe\">\n",
       "  <thead>\n",
       "    <tr style=\"text-align: right;\">\n",
       "      <th></th>\n",
       "      <th>loan_size</th>\n",
       "      <th>interest_rate</th>\n",
       "      <th>borrower_income</th>\n",
       "      <th>debt_to_income</th>\n",
       "      <th>num_of_accounts</th>\n",
       "      <th>derogatory_marks</th>\n",
       "      <th>total_debt</th>\n",
       "    </tr>\n",
       "  </thead>\n",
       "  <tbody>\n",
       "    <tr>\n",
       "      <th>67504</th>\n",
       "      <td>8100.0</td>\n",
       "      <td>6.575</td>\n",
       "      <td>42500</td>\n",
       "      <td>0.294118</td>\n",
       "      <td>2</td>\n",
       "      <td>0</td>\n",
       "      <td>12500</td>\n",
       "    </tr>\n",
       "    <tr>\n",
       "      <th>55887</th>\n",
       "      <td>9000.0</td>\n",
       "      <td>6.930</td>\n",
       "      <td>45800</td>\n",
       "      <td>0.344978</td>\n",
       "      <td>3</td>\n",
       "      <td>0</td>\n",
       "      <td>15800</td>\n",
       "    </tr>\n",
       "    <tr>\n",
       "      <th>14010</th>\n",
       "      <td>9900.0</td>\n",
       "      <td>7.345</td>\n",
       "      <td>49700</td>\n",
       "      <td>0.396378</td>\n",
       "      <td>4</td>\n",
       "      <td>0</td>\n",
       "      <td>19700</td>\n",
       "    </tr>\n",
       "    <tr>\n",
       "      <th>43768</th>\n",
       "      <td>9100.0</td>\n",
       "      <td>6.976</td>\n",
       "      <td>46200</td>\n",
       "      <td>0.350649</td>\n",
       "      <td>3</td>\n",
       "      <td>0</td>\n",
       "      <td>16200</td>\n",
       "    </tr>\n",
       "    <tr>\n",
       "      <th>24257</th>\n",
       "      <td>10100.0</td>\n",
       "      <td>7.427</td>\n",
       "      <td>50500</td>\n",
       "      <td>0.405941</td>\n",
       "      <td>4</td>\n",
       "      <td>1</td>\n",
       "      <td>20500</td>\n",
       "    </tr>\n",
       "  </tbody>\n",
       "</table>\n",
       "</div>"
      ],
      "text/plain": [
       "       loan_size  interest_rate  borrower_income  debt_to_income  \\\n",
       "67504     8100.0          6.575            42500        0.294118   \n",
       "55887     9000.0          6.930            45800        0.344978   \n",
       "14010     9900.0          7.345            49700        0.396378   \n",
       "43768     9100.0          6.976            46200        0.350649   \n",
       "24257    10100.0          7.427            50500        0.405941   \n",
       "\n",
       "       num_of_accounts  derogatory_marks  total_debt  \n",
       "67504                2                 0       12500  \n",
       "55887                3                 0       15800  \n",
       "14010                4                 0       19700  \n",
       "43768                3                 0       16200  \n",
       "24257                4                 1       20500  "
      ]
     },
     "execution_count": 15,
     "metadata": {},
     "output_type": "execute_result"
    }
   ],
   "source": [
    "X_test.head()"
   ]
  },
  {
   "cell_type": "code",
   "execution_count": 18,
   "metadata": {},
   "outputs": [
    {
     "data": {
      "text/plain": [
       "LogisticRegression()"
      ]
     },
     "execution_count": 18,
     "metadata": {},
     "output_type": "execute_result"
    }
   ],
   "source": [
    "# Train a Logistic Regression model print the model score\n",
    "# Create the logistic model\n",
    "from sklearn.linear_model import LogisticRegression\n",
    "model = LogisticRegression()\n",
    "model"
   ]
  },
  {
   "cell_type": "code",
   "execution_count": 19,
   "metadata": {},
   "outputs": [
    {
     "data": {
      "text/plain": [
       "{'C': [0.001, 0.01, 0.1, 1, 10, 100], 'tol': [1e-05, 0.0001, 0.001]}"
      ]
     },
     "execution_count": 19,
     "metadata": {},
     "output_type": "execute_result"
    }
   ],
   "source": [
    "param_grid = {\n",
    "    'C': [0.001, 0.01, 0.1, 1, 10, 100],\n",
    "    'tol': [0.00001, 0.0001, 0.001]\n",
    "}\n",
    "param_grid"
   ]
  },
  {
   "cell_type": "code",
   "execution_count": 21,
   "metadata": {},
   "outputs": [],
   "source": [
    "from sklearn.model_selection import GridSearchCV\n",
    "grid_clf = GridSearchCV(model, param_grid, verbose=3)"
   ]
  },
  {
   "cell_type": "code",
   "execution_count": 22,
   "metadata": {},
   "outputs": [
    {
     "name": "stdout",
     "output_type": "stream",
     "text": [
      "Fitting 5 folds for each of 18 candidates, totalling 90 fits\n",
      "[CV 1/5] END ................C=0.001, tol=1e-05;, score=0.994 total time=   0.0s\n",
      "[CV 2/5] END ................C=0.001, tol=1e-05;, score=0.991 total time=   0.0s\n",
      "[CV 3/5] END ................C=0.001, tol=1e-05;, score=0.990 total time=   0.0s\n",
      "[CV 4/5] END ................C=0.001, tol=1e-05;, score=0.992 total time=   0.0s\n",
      "[CV 5/5] END ................C=0.001, tol=1e-05;, score=0.992 total time=   0.0s\n",
      "[CV 1/5] END ...............C=0.001, tol=0.0001;, score=0.994 total time=   0.0s\n",
      "[CV 2/5] END ...............C=0.001, tol=0.0001;, score=0.991 total time=   0.0s\n",
      "[CV 3/5] END ...............C=0.001, tol=0.0001;, score=0.990 total time=   0.0s\n",
      "[CV 4/5] END ...............C=0.001, tol=0.0001;, score=0.992 total time=   0.0s\n",
      "[CV 5/5] END ...............C=0.001, tol=0.0001;, score=0.992 total time=   0.0s\n",
      "[CV 1/5] END ................C=0.001, tol=0.001;, score=0.994 total time=   0.0s\n",
      "[CV 2/5] END ................C=0.001, tol=0.001;, score=0.991 total time=   0.0s\n",
      "[CV 3/5] END ................C=0.001, tol=0.001;, score=0.990 total time=   0.0s\n",
      "[CV 4/5] END ................C=0.001, tol=0.001;, score=0.992 total time=   0.0s\n",
      "[CV 5/5] END ................C=0.001, tol=0.001;, score=0.992 total time=   0.0s\n",
      "[CV 1/5] END .................C=0.01, tol=1e-05;, score=0.994 total time=   0.0s\n",
      "[CV 2/5] END .................C=0.01, tol=1e-05;, score=0.991 total time=   0.0s\n",
      "[CV 3/5] END .................C=0.01, tol=1e-05;, score=0.990 total time=   0.0s\n",
      "[CV 4/5] END .................C=0.01, tol=1e-05;, score=0.992 total time=   0.0s\n",
      "[CV 5/5] END .................C=0.01, tol=1e-05;, score=0.992 total time=   0.0s\n",
      "[CV 1/5] END ................C=0.01, tol=0.0001;, score=0.994 total time=   0.0s\n",
      "[CV 2/5] END ................C=0.01, tol=0.0001;, score=0.991 total time=   0.0s\n",
      "[CV 3/5] END ................C=0.01, tol=0.0001;, score=0.990 total time=   0.0s\n",
      "[CV 4/5] END ................C=0.01, tol=0.0001;, score=0.992 total time=   0.0s\n",
      "[CV 5/5] END ................C=0.01, tol=0.0001;, score=0.992 total time=   0.0s\n",
      "[CV 1/5] END .................C=0.01, tol=0.001;, score=0.994 total time=   0.0s\n",
      "[CV 2/5] END .................C=0.01, tol=0.001;, score=0.991 total time=   0.0s\n",
      "[CV 3/5] END .................C=0.01, tol=0.001;, score=0.990 total time=   0.0s\n",
      "[CV 4/5] END .................C=0.01, tol=0.001;, score=0.992 total time=   0.0s\n",
      "[CV 5/5] END .................C=0.01, tol=0.001;, score=0.992 total time=   0.0s\n",
      "[CV 1/5] END ..................C=0.1, tol=1e-05;, score=0.994 total time=   0.0s\n",
      "[CV 2/5] END ..................C=0.1, tol=1e-05;, score=0.991 total time=   0.0s\n",
      "[CV 3/5] END ..................C=0.1, tol=1e-05;, score=0.990 total time=   0.0s\n",
      "[CV 4/5] END ..................C=0.1, tol=1e-05;, score=0.992 total time=   0.0s\n",
      "[CV 5/5] END ..................C=0.1, tol=1e-05;, score=0.992 total time=   0.0s\n",
      "[CV 1/5] END .................C=0.1, tol=0.0001;, score=0.994 total time=   0.0s\n",
      "[CV 2/5] END .................C=0.1, tol=0.0001;, score=0.991 total time=   0.0s\n",
      "[CV 3/5] END .................C=0.1, tol=0.0001;, score=0.990 total time=   0.0s\n",
      "[CV 4/5] END .................C=0.1, tol=0.0001;, score=0.992 total time=   0.0s\n",
      "[CV 5/5] END .................C=0.1, tol=0.0001;, score=0.992 total time=   0.0s\n",
      "[CV 1/5] END ..................C=0.1, tol=0.001;, score=0.994 total time=   0.0s\n",
      "[CV 2/5] END ..................C=0.1, tol=0.001;, score=0.991 total time=   0.0s\n",
      "[CV 3/5] END ..................C=0.1, tol=0.001;, score=0.990 total time=   0.0s\n",
      "[CV 4/5] END ..................C=0.1, tol=0.001;, score=0.992 total time=   0.0s\n",
      "[CV 5/5] END ..................C=0.1, tol=0.001;, score=0.992 total time=   0.0s\n",
      "[CV 1/5] END ....................C=1, tol=1e-05;, score=0.994 total time=   0.0s\n",
      "[CV 2/5] END ....................C=1, tol=1e-05;, score=0.991 total time=   0.0s\n",
      "[CV 3/5] END ....................C=1, tol=1e-05;, score=0.990 total time=   0.0s\n",
      "[CV 4/5] END ....................C=1, tol=1e-05;, score=0.992 total time=   0.0s\n",
      "[CV 5/5] END ....................C=1, tol=1e-05;, score=0.992 total time=   0.0s\n",
      "[CV 1/5] END ...................C=1, tol=0.0001;, score=0.994 total time=   0.0s\n",
      "[CV 2/5] END ...................C=1, tol=0.0001;, score=0.991 total time=   0.0s\n",
      "[CV 3/5] END ...................C=1, tol=0.0001;, score=0.990 total time=   0.0s\n",
      "[CV 4/5] END ...................C=1, tol=0.0001;, score=0.992 total time=   0.0s\n",
      "[CV 5/5] END ...................C=1, tol=0.0001;, score=0.992 total time=   0.0s\n",
      "[CV 1/5] END ....................C=1, tol=0.001;, score=0.994 total time=   0.0s\n",
      "[CV 2/5] END ....................C=1, tol=0.001;, score=0.991 total time=   0.0s\n",
      "[CV 3/5] END ....................C=1, tol=0.001;, score=0.990 total time=   0.0s\n",
      "[CV 4/5] END ....................C=1, tol=0.001;, score=0.992 total time=   0.0s\n",
      "[CV 5/5] END ....................C=1, tol=0.001;, score=0.992 total time=   0.0s\n",
      "[CV 1/5] END ...................C=10, tol=1e-05;, score=0.994 total time=   0.0s\n",
      "[CV 2/5] END ...................C=10, tol=1e-05;, score=0.991 total time=   0.0s\n",
      "[CV 3/5] END ...................C=10, tol=1e-05;, score=0.990 total time=   0.0s\n",
      "[CV 4/5] END ...................C=10, tol=1e-05;, score=0.992 total time=   0.0s\n",
      "[CV 5/5] END ...................C=10, tol=1e-05;, score=0.992 total time=   0.0s\n",
      "[CV 1/5] END ..................C=10, tol=0.0001;, score=0.994 total time=   0.0s\n",
      "[CV 2/5] END ..................C=10, tol=0.0001;, score=0.991 total time=   0.0s\n",
      "[CV 3/5] END ..................C=10, tol=0.0001;, score=0.990 total time=   0.0s\n",
      "[CV 4/5] END ..................C=10, tol=0.0001;, score=0.992 total time=   0.0s\n",
      "[CV 5/5] END ..................C=10, tol=0.0001;, score=0.992 total time=   0.0s\n",
      "[CV 1/5] END ...................C=10, tol=0.001;, score=0.994 total time=   0.0s\n",
      "[CV 2/5] END ...................C=10, tol=0.001;, score=0.991 total time=   0.0s\n",
      "[CV 3/5] END ...................C=10, tol=0.001;, score=0.990 total time=   0.0s\n",
      "[CV 4/5] END ...................C=10, tol=0.001;, score=0.992 total time=   0.0s\n",
      "[CV 5/5] END ...................C=10, tol=0.001;, score=0.992 total time=   0.0s\n",
      "[CV 1/5] END ..................C=100, tol=1e-05;, score=0.994 total time=   0.0s\n",
      "[CV 2/5] END ..................C=100, tol=1e-05;, score=0.991 total time=   0.0s\n",
      "[CV 3/5] END ..................C=100, tol=1e-05;, score=0.990 total time=   0.0s\n",
      "[CV 4/5] END ..................C=100, tol=1e-05;, score=0.992 total time=   0.0s\n",
      "[CV 5/5] END ..................C=100, tol=1e-05;, score=0.992 total time=   0.0s\n",
      "[CV 1/5] END .................C=100, tol=0.0001;, score=0.994 total time=   0.0s\n",
      "[CV 2/5] END .................C=100, tol=0.0001;, score=0.991 total time=   0.0s\n",
      "[CV 3/5] END .................C=100, tol=0.0001;, score=0.990 total time=   0.0s\n",
      "[CV 4/5] END .................C=100, tol=0.0001;, score=0.992 total time=   0.0s\n",
      "[CV 5/5] END .................C=100, tol=0.0001;, score=0.992 total time=   0.0s\n",
      "[CV 1/5] END ..................C=100, tol=0.001;, score=0.994 total time=   0.0s\n",
      "[CV 2/5] END ..................C=100, tol=0.001;, score=0.991 total time=   0.0s\n",
      "[CV 3/5] END ..................C=100, tol=0.001;, score=0.990 total time=   0.0s\n",
      "[CV 4/5] END ..................C=100, tol=0.001;, score=0.992 total time=   0.0s\n",
      "[CV 5/5] END ..................C=100, tol=0.001;, score=0.992 total time=   0.0s\n"
     ]
    },
    {
     "data": {
      "text/plain": [
       "GridSearchCV(estimator=LogisticRegression(),\n",
       "             param_grid={'C': [0.001, 0.01, 0.1, 1, 10, 100],\n",
       "                         'tol': [1e-05, 0.0001, 0.001]},\n",
       "             verbose=3)"
      ]
     },
     "execution_count": 22,
     "metadata": {},
     "output_type": "execute_result"
    }
   ],
   "source": [
    "# Fit the model by using the grid search classifier. \n",
    "# This will take the LogisticRegression model and try each combination of parameters.\n",
    "grid_clf.fit(X_train, y_train)"
   ]
  },
  {
   "cell_type": "code",
   "execution_count": 23,
   "metadata": {},
   "outputs": [
    {
     "name": "stdout",
     "output_type": "stream",
     "text": [
      "{'C': 0.001, 'tol': 1e-05}\n"
     ]
    }
   ],
   "source": [
    "# List the best parameters for this dataset\n",
    "print(grid_clf.best_params_)"
   ]
  },
  {
   "cell_type": "code",
   "execution_count": 24,
   "metadata": {},
   "outputs": [
    {
     "name": "stdout",
     "output_type": "stream",
     "text": [
      "0.99186611845342\n"
     ]
    }
   ],
   "source": [
    "# List the best score\n",
    "print(grid_clf.best_score_)"
   ]
  },
  {
   "cell_type": "code",
   "execution_count": 25,
   "metadata": {},
   "outputs": [
    {
     "data": {
      "text/plain": [
       "array([0, 0, 0, ..., 0, 0, 0], dtype=int64)"
      ]
     },
     "execution_count": 25,
     "metadata": {},
     "output_type": "execute_result"
    }
   ],
   "source": [
    "# Make predictions with the hypertuned model\n",
    "predictions = grid_clf.predict(X_test)\n",
    "predictions"
   ]
  },
  {
   "cell_type": "code",
   "execution_count": 26,
   "metadata": {},
   "outputs": [
    {
     "data": {
      "text/plain": [
       "0.9924680148576145"
      ]
     },
     "execution_count": 26,
     "metadata": {},
     "output_type": "execute_result"
    }
   ],
   "source": [
    "# Score the hypertuned model on the test dataset\n",
    "grid_clf.score(X_test, y_test)"
   ]
  },
  {
   "cell_type": "code",
   "execution_count": 27,
   "metadata": {},
   "outputs": [
    {
     "name": "stdout",
     "output_type": "stream",
     "text": [
      "              precision    recall  f1-score   support\n",
      "\n",
      "    low risk       1.00      1.00      1.00     18792\n",
      "   high risk       0.85      0.91      0.88       592\n",
      "\n",
      "    accuracy                           0.99     19384\n",
      "   macro avg       0.93      0.95      0.94     19384\n",
      "weighted avg       0.99      0.99      0.99     19384\n",
      "\n"
     ]
    }
   ],
   "source": [
    "# Calculate the classification report\n",
    "from sklearn.metrics import classification_report\n",
    "print(classification_report(y_test, predictions,\n",
    "                            target_names=target_names))"
   ]
  },
  {
   "cell_type": "code",
   "execution_count": 28,
   "metadata": {},
   "outputs": [
    {
     "data": {
      "text/plain": [
       "LogisticRegression()"
      ]
     },
     "execution_count": 28,
     "metadata": {},
     "output_type": "execute_result"
    }
   ],
   "source": [
    "from sklearn.linear_model import LogisticRegression\n",
    "classifier = LogisticRegression()\n",
    "classifier"
   ]
  },
  {
   "cell_type": "code",
   "execution_count": 29,
   "metadata": {},
   "outputs": [
    {
     "data": {
      "text/plain": [
       "LogisticRegression()"
      ]
     },
     "execution_count": 29,
     "metadata": {},
     "output_type": "execute_result"
    }
   ],
   "source": [
    "classifier.fit(X_train, y_train)"
   ]
  },
  {
   "cell_type": "code",
   "execution_count": 30,
   "metadata": {},
   "outputs": [
    {
     "name": "stdout",
     "output_type": "stream",
     "text": [
      "Training Data Score: 0.9919177328380795\n",
      "Testing Data Score: 0.9924680148576145\n"
     ]
    }
   ],
   "source": [
    "# Train a Logistic Regression model print the model score\n",
    "print(f\"Training Data Score: {classifier.score(X_train, y_train)}\")\n",
    "print(f\"Testing Data Score: {classifier.score(X_test, y_test)}\")"
   ]
  },
  {
   "cell_type": "code",
   "execution_count": 31,
   "metadata": {},
   "outputs": [
    {
     "name": "stdout",
     "output_type": "stream",
     "text": [
      "Actual:\t\t[0, 0, 0, 0, 0, 0, 0, 0, 1, 0]\n",
      "Predicted:\t[0, 0, 0, 0, 0, 0, 0, 0, 1, 0]\n"
     ]
    }
   ],
   "source": [
    "print(f'Actual:\\t\\t{list(y_test[:10])}')\n",
    "print(f'Predicted:\\t{list(classifier.predict(X_test[:10]))}')"
   ]
  },
  {
   "cell_type": "code",
   "execution_count": 32,
   "metadata": {},
   "outputs": [
    {
     "name": "stdout",
     "output_type": "stream",
     "text": [
      "Actual:\t\t[0]\n",
      "Predicted:\t[0]\n"
     ]
    }
   ],
   "source": [
    "print(f'Actual:\\t\\t{list(y_test[:1])}')\n",
    "print(f'Predicted:\\t{list(classifier.predict(X_test[:1]))}')"
   ]
  },
  {
   "cell_type": "code",
   "execution_count": 33,
   "metadata": {},
   "outputs": [
    {
     "data": {
      "text/plain": [
       "Prediction  Actual\n",
       "0           0         18699\n",
       "1           1           539\n",
       "            0            93\n",
       "0           1            53\n",
       "dtype: int64"
      ]
     },
     "execution_count": 33,
     "metadata": {},
     "output_type": "execute_result"
    }
   ],
   "source": [
    "predictions = classifier.predict(X_test)\n",
    "prediction=pd.DataFrame({\"Prediction\": predictions, \"Actual\": y_test})\n",
    "prediction.value_counts()"
   ]
  },
  {
   "cell_type": "code",
   "execution_count": 35,
   "metadata": {},
   "outputs": [
    {
     "data": {
      "text/plain": [
       "array([[18699,    93],\n",
       "       [   53,   539]], dtype=int64)"
      ]
     },
     "execution_count": 35,
     "metadata": {},
     "output_type": "execute_result"
    }
   ],
   "source": [
    "from sklearn.metrics import confusion_matrix\n",
    "\n",
    "y_true = y_test\n",
    "y_pred = classifier.predict(X_test)\n",
    "confusion_matrix(y_true, y_pred)"
   ]
  },
  {
   "cell_type": "code",
   "execution_count": 36,
   "metadata": {},
   "outputs": [
    {
     "data": {
      "text/plain": [
       "array([[74657,   379],\n",
       "       [  237,  2263]], dtype=int64)"
      ]
     },
     "execution_count": 36,
     "metadata": {},
     "output_type": "execute_result"
    }
   ],
   "source": [
    "confusion_matrix(y, classifier.predict(X))"
   ]
  },
  {
   "cell_type": "code",
   "execution_count": 45,
   "metadata": {
    "scrolled": true
   },
   "outputs": [
    {
     "name": "stdout",
     "output_type": "stream",
     "text": [
      "              precision    recall  f1-score   support\n",
      "\n",
      "           0       1.00      1.00      1.00     18792\n",
      "           1       0.85      0.91      0.88       592\n",
      "\n",
      "    accuracy                           0.99     19384\n",
      "   macro avg       0.93      0.95      0.94     19384\n",
      "weighted avg       0.99      0.99      0.99     19384\n",
      "\n"
     ]
    }
   ],
   "source": [
    "from sklearn.metrics import classification_report\n",
    "print(classification_report(y_true,y_pred))"
   ]
  },
  {
   "cell_type": "code",
   "execution_count": 53,
   "metadata": {},
   "outputs": [],
   "source": [
    "from sklearn.preprocessing import StandardScaler"
   ]
  },
  {
   "cell_type": "code",
   "execution_count": 54,
   "metadata": {},
   "outputs": [
    {
     "name": "stdout",
     "output_type": "stream",
     "text": [
      "Training Score: 0.9941188609162196\n",
      "Testing Score: 0.9941704498555509\n"
     ]
    }
   ],
   "source": [
    "scaler = StandardScaler().fit(X_train)\n",
    "X_train_scaled = scaler.transform(X_train)\n",
    "X_test_scaled = scaler.transform(X_test)\n",
    "clf = LogisticRegression().fit(X_train_scaled, y_train)\n",
    "print(f'Training Score: {clf.score(X_train_scaled, y_train)}')\n",
    "print(f'Testing Score: {clf.score(X_test_scaled, y_test)}')"
   ]
  },
  {
   "cell_type": "code",
   "execution_count": 43,
   "metadata": {},
   "outputs": [],
   "source": [
    "## Train a Random Forest Classifier model and print the model score"
   ]
  },
  {
   "cell_type": "code",
   "execution_count": 55,
   "metadata": {},
   "outputs": [
    {
     "name": "stdout",
     "output_type": "stream",
     "text": [
      "Training Score: 0.9971970009629936\n",
      "Testing Score: 0.991900536524969\n"
     ]
    }
   ],
   "source": [
    "from sklearn.ensemble import RandomForestClassifier\n",
    "clf2 = RandomForestClassifier(random_state=1, n_estimators=500).fit(X_train_scaled, y_train)\n",
    "print(f'Training Score: {clf2.score(X_train_scaled, y_train)}')\n",
    "print(f'Testing Score: {clf2.score(X_test_scaled, y_test)}')"
   ]
  },
  {
   "cell_type": "code",
   "execution_count": 56,
   "metadata": {},
   "outputs": [],
   "source": [
    "feature_importances = clf2.feature_importances_"
   ]
  },
  {
   "cell_type": "code",
   "execution_count": 58,
   "metadata": {},
   "outputs": [
    {
     "name": "stdout",
     "output_type": "stream",
     "text": [
      "[1.20268418e-01 3.01393087e-01 1.76271265e-01 1.51317720e-01\n",
      " 1.11568592e-01 1.18380419e-04 1.39062538e-01]\n"
     ]
    },
    {
     "data": {
      "image/png": "[encoded data removed]",
      "text/plain": [
       "<Figure size 640x480 with 1 Axes>"
      ]
     },
     "metadata": {},
     "output_type": "display_data"
    }
   ],
   "source": [
    "import matplotlib.pyplot as plt\n",
    "features = clf2.feature_importances_\n",
    "print(features)\n",
    "plt.bar(x = range(len(features)), height=features)\n",
    "plt.show()"
   ]
  }
 ],
 "metadata": {
  "kernelspec": {
   "display_name": "Python 3 (ipykernel)",
   "language": "python",
   "name": "python3"
  },
  "language_info": {
   "codemirror_mode": {
    "name": "ipython",
    "version": 3
   },
   "file_extension": ".py",
   "mimetype": "text/x-python",
   "name": "python",
   "nbconvert_exporter": "python",
   "pygments_lexer": "ipython3",
   "version": "3.9.12"
  }
 },
 "nbformat": 4,
 "nbformat_minor": 4
}
